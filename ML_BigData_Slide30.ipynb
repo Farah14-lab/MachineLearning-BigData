{
  "nbformat": 4,
  "nbformat_minor": 0,
  "metadata": {
    "colab": {
      "provenance": [],
      "authorship_tag": "ABX9TyMeW1jih1SthEYv+6REKK89",
      "include_colab_link": true
    },
    "kernelspec": {
      "name": "python3",
      "display_name": "Python 3"
    },
    "language_info": {
      "name": "python"
    }
  },
  "cells": [
    {
      "cell_type": "markdown",
      "metadata": {
        "id": "view-in-github",
        "colab_type": "text"
      },
      "source": [
        "<a href=\"https://colab.research.google.com/github/Farah14-lab/MachineLearning-BigData/blob/main/ML_BigData_Slide30.ipynb\" target=\"_parent\"><img src=\"https://colab.research.google.com/assets/colab-badge.svg\" alt=\"Open In Colab\"/></a>"
      ]
    },
    {
      "cell_type": "code",
      "execution_count": 1,
      "metadata": {
        "colab": {
          "base_uri": "https://localhost:8080/"
        },
        "id": "-FfaX6iwJRkL",
        "outputId": "8aa9285e-4a66-4919-b148-5e89672a88aa"
      },
      "outputs": [
        {
          "output_type": "stream",
          "name": "stdout",
          "text": [
            "Mounted at /content/drive\n"
          ]
        }
      ],
      "source": [
        "# Connect Google Drive Untuk Ambil Data\n",
        "from google.colab import drive\n",
        "drive.mount('/content/drive')"
      ]
    },
    {
      "cell_type": "code",
      "source": [
        "# Install PySpark\n",
        "!pip install pyspark"
      ],
      "metadata": {
        "colab": {
          "base_uri": "https://localhost:8080/"
        },
        "id": "pBhtdbk4JZbJ",
        "outputId": "8836a655-ba13-4db9-818d-9922eacbb586"
      },
      "execution_count": 2,
      "outputs": [
        {
          "output_type": "stream",
          "name": "stdout",
          "text": [
            "Looking in indexes: https://pypi.org/simple, https://us-python.pkg.dev/colab-wheels/public/simple/\n",
            "Collecting pyspark\n",
            "  Downloading pyspark-3.4.1.tar.gz (310.8 MB)\n",
            "\u001b[2K     \u001b[90m━━━━━━━━━━━━━━━━━━━━━━━━━━━━━━━━━━━━━━━\u001b[0m \u001b[32m310.8/310.8 MB\u001b[0m \u001b[31m4.4 MB/s\u001b[0m eta \u001b[36m0:00:00\u001b[0m\n",
            "\u001b[?25h  Preparing metadata (setup.py) ... \u001b[?25l\u001b[?25hdone\n",
            "Requirement already satisfied: py4j==0.10.9.7 in /usr/local/lib/python3.10/dist-packages (from pyspark) (0.10.9.7)\n",
            "Building wheels for collected packages: pyspark\n",
            "  Building wheel for pyspark (setup.py) ... \u001b[?25l\u001b[?25hdone\n",
            "  Created wheel for pyspark: filename=pyspark-3.4.1-py2.py3-none-any.whl size=311285398 sha256=ad146a8cd7b2bb9978d1076ef7ecea1c2213c962434c5cdc84c94852f6f510d4\n",
            "  Stored in directory: /root/.cache/pip/wheels/0d/77/a3/ff2f74cc9ab41f8f594dabf0579c2a7c6de920d584206e0834\n",
            "Successfully built pyspark\n",
            "Installing collected packages: pyspark\n",
            "Successfully installed pyspark-3.4.1\n"
          ]
        }
      ]
    },
    {
      "cell_type": "code",
      "source": [
        "# Import Library\n",
        "from pyspark.sql import SparkSession\n",
        "from pyspark.ml.recommendation import ALS\n",
        "from pyspark.sql.functions import col\n",
        "\n",
        "spark = SparkSession.builder.appName(\"Movie Lens\").getOrCreate()"
      ],
      "metadata": {
        "id": "DOZa5ncHJbfj"
      },
      "execution_count": 3,
      "outputs": []
    },
    {
      "cell_type": "code",
      "source": [
        "# Parse String Menjadi Objek Rating\n",
        "def parseRating(str):\n",
        "    fields = str.split(\"::\")\n",
        "    assert len(fields) == 4\n",
        "    return (int(fields[0]), int(fields[1]), float(fields[2]), int(fields[3]))\n"
      ],
      "metadata": {
        "id": "W6tJNNGXJgK6"
      },
      "execution_count": 5,
      "outputs": []
    },
    {
      "cell_type": "code",
      "source": [
        "# Baca File\n",
        "raw = spark.read.text(\"/content/drive/MyDrive/BigData (1)/ML/ratings.dat\").rdd.map(lambda x: x[0])\n",
        "ratings = raw.map(parseRating).toDF([\"userId\", \"movieId\", \"rating\", \"timestamp\"])\n",
        "ratings.show(5)"
      ],
      "metadata": {
        "colab": {
          "base_uri": "https://localhost:8080/"
        },
        "id": "nvKYwxgwJiUb",
        "outputId": "9c038c3c-e617-4306-d6b1-fde9791d77ad"
      },
      "execution_count": 6,
      "outputs": [
        {
          "output_type": "stream",
          "name": "stdout",
          "text": [
            "+------+-------+------+---------+\n",
            "|userId|movieId|rating|timestamp|\n",
            "+------+-------+------+---------+\n",
            "|     1|   1193|   5.0|978300760|\n",
            "|     1|    661|   3.0|978302109|\n",
            "|     1|    914|   3.0|978301968|\n",
            "|     1|   3408|   4.0|978300275|\n",
            "|     1|   2355|   5.0|978824291|\n",
            "+------+-------+------+---------+\n",
            "only showing top 5 rows\n",
            "\n"
          ]
        }
      ]
    },
    {
      "cell_type": "code",
      "source": [
        "# Data Training 80% dan Test 20%\n",
        "training, test = ratings.randomSplit([0.8, 0.2])\n"
      ],
      "metadata": {
        "id": "Zq08ygj8JmJ4"
      },
      "execution_count": 7,
      "outputs": []
    },
    {
      "cell_type": "code",
      "source": [
        "# Membuat Model\n",
        "als = ALS(maxIter=5, regParam=0.01, userCol=\"userId\", itemCol=\"movieId\", ratingCol=\"rating\")\n",
        "model = als.fit(training)\n",
        "model.save(\"mymodel\")\n"
      ],
      "metadata": {
        "id": "6DFl7tCbJoA3"
      },
      "execution_count": 8,
      "outputs": []
    },
    {
      "cell_type": "code",
      "source": [
        "# Prediksi Data\n",
        "predictions = model.transform(test)\n",
        "mse = predictions.withColumn(\"diff\", col(\"rating\") - col(\"prediction\")).select((col(\"diff\") ** 2).alias(\"squared_diff\")).filter(~col(\"squared_diff\").isNull()).agg({\"squared_diff\": \"sum\"}).collect()[0][0]\n",
        "print(\"Mean Squared Error:\", mse)\n",
        "\n",
        "predictions.show(10)"
      ],
      "metadata": {
        "colab": {
          "base_uri": "https://localhost:8080/"
        },
        "id": "pedcyttGJp5R",
        "outputId": "b95d8a07-7f0f-4817-e6db-ba52bd63b97b"
      },
      "execution_count": 9,
      "outputs": [
        {
          "output_type": "stream",
          "name": "stdout",
          "text": [
            "Mean Squared Error: nan\n",
            "+------+-------+------+---------+----------+\n",
            "|userId|movieId|rating|timestamp|prediction|\n",
            "+------+-------+------+---------+----------+\n",
            "|     1|      1|   5.0|978824268| 4.3171163|\n",
            "|     1|    150|   5.0|978301777|  4.282879|\n",
            "|     1|    260|   4.0|978300760|  3.923459|\n",
            "|     1|    914|   3.0|978301968| 4.1090107|\n",
            "|     1|   1028|   5.0|978301777| 4.3578677|\n",
            "|     1|   1197|   3.0|978302268| 3.9340935|\n",
            "|     1|   1270|   5.0|978300055|  4.168401|\n",
            "|     1|   1545|   4.0|978824139| 3.7702816|\n",
            "|     1|   1961|   5.0|978301590| 4.4183617|\n",
            "|     1|   2398|   4.0|978302281| 5.0203776|\n",
            "+------+-------+------+---------+----------+\n",
            "only showing top 10 rows\n",
            "\n"
          ]
        }
      ]
    },
    {
      "cell_type": "code",
      "source": [
        "# Menyimpan Hasil Prediksi\n",
        "predictions.write.format(\"csv\").save(\"ml-bigdata.csv\")"
      ],
      "metadata": {
        "id": "Jts3TD58JrfQ"
      },
      "execution_count": 10,
      "outputs": []
    }
  ]
}