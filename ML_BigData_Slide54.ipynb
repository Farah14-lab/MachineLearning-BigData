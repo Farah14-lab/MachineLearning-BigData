{
  "nbformat": 4,
  "nbformat_minor": 0,
  "metadata": {
    "colab": {
      "provenance": [],
      "authorship_tag": "ABX9TyPCbIJ6Wock7N0XXWq+uOhJ",
      "include_colab_link": true
    },
    "kernelspec": {
      "name": "python3",
      "display_name": "Python 3"
    },
    "language_info": {
      "name": "python"
    }
  },
  "cells": [
    {
      "cell_type": "markdown",
      "metadata": {
        "id": "view-in-github",
        "colab_type": "text"
      },
      "source": [
        "<a href=\"https://colab.research.google.com/github/Farah14-lab/MachineLearning-BigData/blob/main/ML_BigData_Slide54.ipynb\" target=\"_parent\"><img src=\"https://colab.research.google.com/assets/colab-badge.svg\" alt=\"Open In Colab\"/></a>"
      ]
    },
    {
      "cell_type": "code",
      "execution_count": 11,
      "metadata": {
        "colab": {
          "base_uri": "https://localhost:8080/"
        },
        "id": "B3TIFfvijiq5",
        "outputId": "6ca01627-c5f8-43d7-f225-a648c31ef570"
      },
      "outputs": [
        {
          "output_type": "stream",
          "name": "stdout",
          "text": [
            "Drive already mounted at /content/drive; to attempt to forcibly remount, call drive.mount(\"/content/drive\", force_remount=True).\n"
          ]
        }
      ],
      "source": [
        "from google.colab import drive\n",
        "drive.mount('/content/drive')"
      ]
    },
    {
      "cell_type": "code",
      "source": [
        "import os\n",
        "os.system(\"rm -rf /content/KMeansModel1\")"
      ],
      "metadata": {
        "id": "2rSknjIUjmNZ",
        "colab": {
          "base_uri": "https://localhost:8080/"
        },
        "outputId": "f3b83ff7-8706-42a5-d6d8-8290dad97820"
      },
      "execution_count": 12,
      "outputs": [
        {
          "output_type": "execute_result",
          "data": {
            "text/plain": [
              "0"
            ]
          },
          "metadata": {},
          "execution_count": 12
        }
      ]
    },
    {
      "cell_type": "code",
      "source": [
        "!pip install pyspark"
      ],
      "metadata": {
        "colab": {
          "base_uri": "https://localhost:8080/"
        },
        "id": "vuf81Ynvjpaf",
        "outputId": "9cf37fa1-0534-480b-ed24-e622f029025e"
      },
      "execution_count": 13,
      "outputs": [
        {
          "output_type": "stream",
          "name": "stdout",
          "text": [
            "Looking in indexes: https://pypi.org/simple, https://us-python.pkg.dev/colab-wheels/public/simple/\n",
            "Requirement already satisfied: pyspark in /usr/local/lib/python3.10/dist-packages (3.4.1)\n",
            "Requirement already satisfied: py4j==0.10.9.7 in /usr/local/lib/python3.10/dist-packages (from pyspark) (0.10.9.7)\n"
          ]
        }
      ]
    },
    {
      "cell_type": "code",
      "source": [
        "from pyspark.mllib.clustering import KMeans, KMeansModel\n",
        "from numpy import array\n",
        "from math import sqrt\n",
        "from pyspark import SparkContext"
      ],
      "metadata": {
        "id": "k5kPc2fsjwZp"
      },
      "execution_count": 14,
      "outputs": []
    },
    {
      "cell_type": "code",
      "source": [
        "# Create a SparkContext\n",
        "sc = SparkContext.getOrCreate()\n",
        "\n",
        "# Load and parse the data\n",
        "data = sc.textFile(\"/content/drive/MyDrive/BigData (1)/ML/kmeans_data.txt\")\n",
        "parsedData = data.map(lambda line: array([float(x) for x in line.split(' ')]))\n",
        "\n",
        "# Build the model (cluster the data)\n",
        "clusters = KMeans.train(parsedData, k=2, maxIterations=10, initializationMode=\"random\")"
      ],
      "metadata": {
        "id": "W2Kj8I5Aj1XQ"
      },
      "execution_count": 15,
      "outputs": []
    },
    {
      "cell_type": "code",
      "source": [
        "# Evaluate clustering by computing Within Set Sum of Squared Errors\n",
        "def error(point):\n",
        "    center = clusters.centers[clusters.predict(point)]\n",
        "    return sqrt(sum([x**2 for x in (point - center)]))\n",
        "\n",
        "WSSSE = parsedData.map(lambda point: error(point)).reduce(lambda x, y: x + y)\n",
        "print(\"Within Set Sum of Squared Errors = \" + str(WSSSE))\n",
        "\n",
        "# Save and load the model\n",
        "clusters.save(sc, \"myModelPath\")\n",
        "sameModel = KMeansModel.load(sc, \"myModelPath\")"
      ],
      "metadata": {
        "colab": {
          "base_uri": "https://localhost:8080/"
        },
        "id": "hsLiK2ebj2MF",
        "outputId": "2b91a0eb-1920-44c1-b53a-2f4c2e84c58b"
      },
      "execution_count": 16,
      "outputs": [
        {
          "output_type": "stream",
          "name": "stdout",
          "text": [
            "Within Set Sum of Squared Errors = 0.6928203230275529\n"
          ]
        }
      ]
    }
  ]
}