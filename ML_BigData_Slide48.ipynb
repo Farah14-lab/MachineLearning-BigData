{
  "nbformat": 4,
  "nbformat_minor": 0,
  "metadata": {
    "colab": {
      "provenance": [],
      "authorship_tag": "ABX9TyP29p8rGRIo4Xi6Y0vUEHoC",
      "include_colab_link": true
    },
    "kernelspec": {
      "name": "python3",
      "display_name": "Python 3"
    },
    "language_info": {
      "name": "python"
    }
  },
  "cells": [
    {
      "cell_type": "markdown",
      "metadata": {
        "id": "view-in-github",
        "colab_type": "text"
      },
      "source": [
        "<a href=\"https://colab.research.google.com/github/Farah14-lab/MachineLearning-BigData/blob/main/ML_BigData_Slide48.ipynb\" target=\"_parent\"><img src=\"https://colab.research.google.com/assets/colab-badge.svg\" alt=\"Open In Colab\"/></a>"
      ]
    },
    {
      "cell_type": "code",
      "execution_count": 45,
      "metadata": {
        "colab": {
          "base_uri": "https://localhost:8080/"
        },
        "id": "_qoGO19fr7Sj",
        "outputId": "c3588825-40bf-48fa-c06f-a25e0a6e896f"
      },
      "outputs": [
        {
          "output_type": "stream",
          "name": "stdout",
          "text": [
            "Drive already mounted at /content/drive; to attempt to forcibly remount, call drive.mount(\"/content/drive\", force_remount=True).\n"
          ]
        }
      ],
      "source": [
        "from google.colab import drive\n",
        "drive.mount('/content/drive')"
      ]
    },
    {
      "cell_type": "code",
      "source": [
        "# Install PySpark\n",
        "!pip install pyspark"
      ],
      "metadata": {
        "colab": {
          "base_uri": "https://localhost:8080/"
        },
        "id": "1mRSTkPusU4k",
        "outputId": "c3815cba-91f7-4fac-fe70-91c8e4c5bfef"
      },
      "execution_count": 46,
      "outputs": [
        {
          "output_type": "stream",
          "name": "stdout",
          "text": [
            "Looking in indexes: https://pypi.org/simple, https://us-python.pkg.dev/colab-wheels/public/simple/\n",
            "Requirement already satisfied: pyspark in /usr/local/lib/python3.10/dist-packages (3.4.1)\n",
            "Requirement already satisfied: py4j==0.10.9.7 in /usr/local/lib/python3.10/dist-packages (from pyspark) (0.10.9.7)\n"
          ]
        }
      ]
    },
    {
      "cell_type": "code",
      "source": [
        "from tabulate import tabulate\n",
        "from pyspark.mllib.recommendation import ALS, Rating\n",
        "from pyspark.sql import SparkSession"
      ],
      "metadata": {
        "id": "7lg9NXljtDJ0"
      },
      "execution_count": 47,
      "outputs": []
    },
    {
      "cell_type": "code",
      "source": [
        "# Create a SparkSession\n",
        "spark = SparkSession.builder.getOrCreate()"
      ],
      "metadata": {
        "id": "KXD5Rnl8WNix"
      },
      "execution_count": 48,
      "outputs": []
    },
    {
      "cell_type": "code",
      "source": [
        "# Read the ratings data from a file\n",
        "raw = spark.sparkContext.textFile(\"/content/drive/MyDrive/BigData (1)/ML/ratings.dat\")\n",
        "mydata = [(2, 0.01), (3, 0.02), (4, 0.03)]\n",
        "mydatardd = spark.sparkContext.parallelize(mydata).map(lambda x: Rating(0, x[0], x[1]))"
      ],
      "metadata": {
        "id": "vKCDOiWFW0OZ"
      },
      "execution_count": 49,
      "outputs": []
    },
    {
      "cell_type": "code",
      "source": [
        "# Define a function to parse the rating data\n",
        "def parseRating(str):\n",
        "    fields = str.split(\"::\")\n",
        "    assert len(fields) == 4\n",
        "    return Rating(int(fields[0]), int(fields[1]), float(fields[2]))"
      ],
      "metadata": {
        "id": "9zwBirMrW6TZ"
      },
      "execution_count": 50,
      "outputs": []
    },
    {
      "cell_type": "code",
      "source": [
        "# Parse the rating data\n",
        "ratings = raw.map(parseRating)\n",
        "totalRatings = ratings.union(mydatardd)"
      ],
      "metadata": {
        "id": "P4OQRz1pXIMZ"
      },
      "execution_count": 51,
      "outputs": []
    },
    {
      "cell_type": "code",
      "source": [
        "# Train the ALS model\n",
        "rank = 8\n",
        "numIterations = 5\n",
        "lambda_ = 1.0\n",
        "model = ALS.train(totalRatings, rank, numIterations, lambda_)"
      ],
      "metadata": {
        "id": "MWnWzOamXOke"
      },
      "execution_count": 52,
      "outputs": []
    },
    {
      "cell_type": "code",
      "source": [
        "# Get the top 10 recommended products for user 1\n",
        "userId = 1\n",
        "numRecommendations = 10\n",
        "products = model.recommendProducts(userId, numRecommendations)"
      ],
      "metadata": {
        "id": "zV_sWHqgXQ_Q"
      },
      "execution_count": 53,
      "outputs": []
    },
    {
      "cell_type": "code",
      "source": [
        "# Convert the products list to an RDD\n",
        "productsRDD = spark.sparkContext.parallelize(products)"
      ],
      "metadata": {
        "id": "JzKYCAo_Xbk6"
      },
      "execution_count": 54,
      "outputs": []
    },
    {
      "cell_type": "code",
      "source": [
        "# Load movie data, join with the recommendations, and display the names ordered by ratings\n",
        "movies = spark.read.text(\"/content/drive/MyDrive/BigData (1)/ML/movies.dat\")\n",
        "movieNames = movies.rdd.map(lambda line: line.value.split(\"::\")).map(lambda fields: (int(fields[0]), fields[1]))\n",
        "recommendations = productsRDD.map(lambda rating: (rating.product, rating.rating))\n",
        "movieRecommendations = movieNames.join(recommendations).sortBy(lambda x: -x[1][1])\n",
        "\n",
        "# Prepare the data for tabular display\n",
        "table_data = [(movie_id, movie_title, rating) for movie_id, (movie_title, rating) in movieRecommendations.take(10)]\n",
        "\n",
        "# Display the recommendations in a table\n",
        "headers = [\"Movie ID\", \"Title\", \"Rating\"]\n",
        "table = tabulate(table_data, headers, tablefmt=\"grid\")\n",
        "print(table)"
      ],
      "metadata": {
        "id": "SOSguaH-XgbB",
        "colab": {
          "base_uri": "https://localhost:8080/"
        },
        "outputId": "9ad54e79-ed02-4fdf-e47a-e91a1d4a9fbb"
      },
      "execution_count": 55,
      "outputs": [
        {
          "output_type": "stream",
          "name": "stdout",
          "text": [
            "+------------+-------------------------------------------+----------+\n",
            "|   Movie ID | Title                                     |   Rating |\n",
            "+============+===========================================+==========+\n",
            "|       3382 | Song of Freedom (1936)                    |  4.46389 |\n",
            "+------------+-------------------------------------------+----------+\n",
            "|        989 | Schlafes Bruder (Brother of Sleep) (1995) |  4.01517 |\n",
            "+------------+-------------------------------------------+----------+\n",
            "|        557 | Mamma Roma (1962)                         |  3.90163 |\n",
            "+------------+-------------------------------------------+----------+\n",
            "|        787 | Gate of Heavenly Peace, The (1995)        |  3.89335 |\n",
            "+------------+-------------------------------------------+----------+\n",
            "|       1830 | Follow the Bitch (1998)                   |  3.89262 |\n",
            "+------------+-------------------------------------------+----------+\n",
            "|       3233 | Smashing Time (1967)                      |  3.8913  |\n",
            "+------------+-------------------------------------------+----------+\n",
            "|       3607 | One Little Indian (1973)                  |  3.83974 |\n",
            "+------------+-------------------------------------------+----------+\n",
            "|       3172 | Ulysses (Ulisse) (1954)                   |  3.81631 |\n",
            "+------------+-------------------------------------------+----------+\n",
            "|       2503 | Apple, The (Sib) (1998)                   |  3.78312 |\n",
            "+------------+-------------------------------------------+----------+\n",
            "|       3656 | Lured (1947)                              |  3.78218 |\n",
            "+------------+-------------------------------------------+----------+\n"
          ]
        }
      ]
    }
  ]
}